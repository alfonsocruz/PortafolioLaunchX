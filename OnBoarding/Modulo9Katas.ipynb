{
  "cells": [
    {
      "cell_type": "markdown",
      "metadata": {},
      "source": [
        "# Ejercicio: Uso de funciones en Python"
      ]
    },
    {
      "cell_type": "markdown",
      "metadata": {},
      "source": [
        "### Ejercicio 1: Trabajar con argumentos en funciones\n",
        "\n",
        "Los argumentos requeridos en las funciones se utilizan cuando las funciones necesitan que esos argumentos funcionen correctamente. En este ejercicio, construirás un informe de combustible que requiere información de varias ubicaciones de combustible en todo el cohete.\n",
        "\n"
      ]
    },
    {
      "cell_type": "markdown",
      "metadata": {},
      "source": [
        "Comienza por crear una función que necesite tres lecturas de combustible y devuelva un informe:"
      ]
    },
    {
      "cell_type": "code",
      "execution_count": 1,
      "metadata": {},
      "outputs": [],
      "source": [
        "# Función para leer 3 tanques de combustible y muestre el promedio\n",
        "def generate_report(tank1, tank2, tank3):\n",
        "    avg = round(((tank1 + tank2 + tank3) / 3), 2)\n",
        "    return f\"\"\"Report:\n",
        "    Average: {avg}%\n",
        "    Tank1: {tank1}%\n",
        "    Tank2: {tank2}%\n",
        "    Tank3: {tank3}% \n",
        "    \"\"\"\n",
        "\n"
      ]
    },
    {
      "cell_type": "markdown",
      "metadata": {},
      "source": [
        "Ahora que hemos definido la función de informes, vamos a comprobarlo. Para esta misión, los tanques no están llenos:"
      ]
    },
    {
      "cell_type": "code",
      "execution_count": 2,
      "metadata": {},
      "outputs": [
        {
          "name": "stdout",
          "output_type": "stream",
          "text": [
            "Report:\n",
            "    Average: 73.67%\n",
            "    Tank1: 80%\n",
            "    Tank2: 76%\n",
            "    Tank3: 65% \n",
            "    \n"
          ]
        }
      ],
      "source": [
        "\n",
        "# Llamamos a la función que genera el reporte print(funcion(tanque1, tanque2, tanque3))\n",
        "print(generate_report(80, 76, 65))"
      ]
    },
    {
      "cell_type": "markdown",
      "metadata": {},
      "source": [
        "En lugar de simplemente crear el informe, la función también está calculando el promedio. Mejora la legibilidad extrayendo el cálculo promedio de la función en una nueva función para que el promedio se pueda hacer de forma independiente:"
      ]
    },
    {
      "cell_type": "code",
      "execution_count": 3,
      "metadata": {},
      "outputs": [],
      "source": [
        "# Función promedio \n",
        "def calc_average(list0):\n",
        "    size = len(list0)\n",
        "    total = sum(list0)\n",
        "    avg = round((total / size), 2)\n",
        "    return avg"
      ]
    },
    {
      "cell_type": "markdown",
      "metadata": {},
      "source": [
        "Ahora actualiza la función de informes para llamando a la nueva función del promedio:\n"
      ]
    },
    {
      "cell_type": "code",
      "execution_count": 4,
      "metadata": {},
      "outputs": [
        {
          "name": "stdout",
          "output_type": "stream",
          "text": [
            "Report:\n",
            "    Average: 73.67%\n",
            "    Tank1: 80%\n",
            "    Tank2: 76%\n",
            "    Tank3: 65% \n",
            "    \n"
          ]
        }
      ],
      "source": [
        "# Actualiza la función\n",
        "def generate_report(tank1, tank2, tank3):\n",
        "    list0 = [tank1, tank2, tank3]\n",
        "    avg = calc_average(list0)\n",
        "    return f\"\"\"Report:\n",
        "    Average: {avg}%\n",
        "    Tank1: {tank1}%\n",
        "    Tank2: {tank2}%\n",
        "    Tank3: {tank3}% \n",
        "    \"\"\"\n",
        "\n",
        "print(generate_report(80, 76, 65))"
      ]
    },
    {
      "cell_type": "markdown",
      "metadata": {},
      "source": [
        "## Ejercicio 2: Trabajo con argumentos de palabra clave"
      ]
    },
    {
      "cell_type": "markdown",
      "metadata": {},
      "source": [
        "### Ejercicio : Trabajar con argumentos de palabras clave en funciones\n",
        "En este ejercicio, construirás un informe de cohete que requiere varias piezas de información, como el tiempo hasta el destino, el combustible a la izquierda y el nombre del destino. Comienza por crear una función que creará un informe preciso de la misión:"
      ]
    },
    {
      "cell_type": "code",
      "execution_count": 5,
      "metadata": {},
      "outputs": [
        {
          "name": "stdout",
          "output_type": "stream",
          "text": [
            "\n",
            "    Mission to Mars\n",
            "    Total travel time: 60 minutes\n",
            "    Total fuel left: 600000 gallons\n",
            "    \n"
          ]
        }
      ],
      "source": [
        "# Función con un informe preciso de la misión. Considera hora de prelanzamiento, tiempo de vuelo, destino, tanque externo y tanque interno\n",
        "def report(pre_launch_time, flight_time, destination, external_tank, internal_tank):\n",
        "    return f\"\"\"\n",
        "    Mission to {destination}\n",
        "    Total travel time: {pre_launch_time + flight_time} minutes\n",
        "    Total fuel left: {external_tank + internal_tank} gallons\n",
        "    \"\"\"\n",
        "\n",
        "print(report(15, 45, \"Mars\", 150000, 450000))"
      ]
    },
    {
      "cell_type": "markdown",
      "metadata": {},
      "source": [
        "La función es problemática porque no se puede adaptar para minutos adicionales o tanques adicionales de combustible. Hazlo más flexible permitiendo cualquier número de pasos basados en el tiempo y cualquier número de tanques. En lugar de usar `*args` y `**kwargs`, aprovecha el hecho de que puedes usar cualquier nombre que desees. Asegurate que la función sea más legible mediante el uso de nombres de variables que están asociados con las entradas, como `*minutes` y `**fuel_reservoirs`:"
      ]
    },
    {
      "cell_type": "code",
      "execution_count": 6,
      "metadata": {},
      "outputs": [
        {
          "name": "stdout",
          "output_type": "stream",
          "text": [
            "\n",
            "    Mission to Mars\n",
            "    Total travel time: 120 minutes\n",
            "    Total fuel left: 600000\n",
            "    \n"
          ]
        }
      ],
      "source": [
        "# Escribe tu nueva función de reporte considerando lo anterior\n",
        "def report02(destination, *minutes, **tanks):\n",
        "    return f\"\"\"\n",
        "    Mission to {destination}\n",
        "    Total travel time: {sum(minutes)} minutes\n",
        "    Total fuel left: {sum(tanks.values())}\n",
        "    \"\"\"\n",
        "\n",
        "print(report02(\"Mars\", 10, 20, 15, 45, 30, internal=450000, external=150000))"
      ]
    },
    {
      "cell_type": "markdown",
      "metadata": {},
      "source": [
        "Debido a que el combustible que queda en los tanques es específico de cada tanque, actualiza la función para usar el nombre de cada tanque en el informe:"
      ]
    },
    {
      "cell_type": "code",
      "execution_count": 7,
      "metadata": {},
      "outputs": [
        {
          "name": "stdout",
          "output_type": "stream",
          "text": [
            "\n",
            "    Mission to Mars\n",
            "    Total travel time: 80 minutes\n",
            "    Total fuel left: 500000\n",
            "    internal tank: 300000 gallons left\n",
            "    external tank: 200000 gallons left\n",
            "    \n"
          ]
        }
      ],
      "source": [
        "# Escribe tu nueva función\n",
        "def mission_report(destination, *minutes, **tanks):\n",
        "    report = f\"\"\"\n",
        "    Mission to {destination}\n",
        "    Total travel time: {sum(minutes)} minutes\n",
        "    Total fuel left: {sum(tanks.values())}\n",
        "    \"\"\"\n",
        "    for tank_name, gallons in tanks.items():\n",
        "        report += f\"{tank_name} tank: {gallons} gallons left\\n    \"\n",
        "    return report\n",
        "\n",
        "print(mission_report(\"Mars\", 20, 15, 45, internal=300000, external=200000))"
      ]
    }
  ],
  "metadata": {
    "interpreter": {
      "hash": "205095b8b86ea82a021a8fc2ffba2b3bc9f8d0be25999901963b225939f75778"
    },
    "kernelspec": {
      "display_name": "Python 3.8.10 64-bit ('tmp': conda)",
      "name": "python3"
    },
    "language_info": {
      "codemirror_mode": {
        "name": "ipython",
        "version": 3
      },
      "file_extension": ".py",
      "mimetype": "text/x-python",
      "name": "python",
      "nbconvert_exporter": "python",
      "pygments_lexer": "ipython3",
      "version": "3.9.10"
    },
    "nteract": {
      "version": "nteract-front-end@1.0.0"
    },
    "orig_nbformat": 4
  },
  "nbformat": 4,
  "nbformat_minor": 2
}
